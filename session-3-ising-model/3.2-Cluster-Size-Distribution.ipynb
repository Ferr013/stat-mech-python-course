{
 "cells": [
  {
   "cell_type": "code",
   "execution_count": null,
   "metadata": {},
   "outputs": [],
   "source": [
    "import matplotlib.pyplot as plt\n",
    "from IPython import display\n",
    "%matplotlib inline\n",
    "# another plotting library\n",
    "# https://seaborn.pydata.org/\n",
    "import seaborn as sns\n",
    "\n",
    "import matplotlib as mpl\n",
    "\n",
    "# nicer figures\n",
    "import matplotlib as mpl\n",
    "mpl.rcParams['axes.titlesize'] = 16\n",
    "mpl.rcParams['axes.labelsize'] = 14\n",
    "mpl.rcParams['legend.fontsize'] = 12\n",
    "mpl.rcParams['xtick.labelsize'] = 12\n",
    "mpl.rcParams['ytick.labelsize'] = 12\n",
    "mpl.rcParams['axes.spines.right'] = False\n",
    "mpl.rcParams['axes.spines.top'] = False\n",
    "\n",
    "import sys\n",
    "sys.path.append(\"SethnasBookCode/\")\n",
    "from Ising import IsingModel\n",
    "\n",
    "import numpy as np"
   ]
  },
  {
   "cell_type": "markdown",
   "metadata": {},
   "source": [
    "# Finding clusters\n",
    "During the last lecture, each of you designed an algorithm to find and measure clusters \n",
    "in a given configuration. Now it is time to implement it in python!"
   ]
  },
  {
   "cell_type": "markdown",
   "metadata": {},
   "source": [
    "**Exercise** Write a function that, given a configuration array `config`, returns another array `labels` where each cluster has a different label.\n",
    "\n",
    "Remember:\n",
    "+ Clusters can trespass (periodic) boundary conditions\n",
    "+ Both `+1`'s and `-1`'s can form clusters"
   ]
  },
  {
   "cell_type": "code",
   "execution_count": null,
   "metadata": {},
   "outputs": [],
   "source": [
    "def get_labels(config):\n",
    "    \"\"\"\n",
    "    Get unique cluster labels.\n",
    "    \n",
    "    Parameters\n",
    "    ----------\n",
    "    config : np.array, (N, N)\n",
    "        Configuration of the system in {-1, 1} notation\n",
    "    Returns\n",
    "    -------\n",
    "    labels : np.array, (N, N)\n",
    "        Labels that identify the clusters\n",
    "    \"\"\"\n",
    "    ...\n",
    "            \n",
    "    return labels"
   ]
  },
  {
   "cell_type": "markdown",
   "metadata": {},
   "source": [
    "### Test your function\n",
    "To help you **test** your function, I have prepared some test data, so that we can all try our algorithms using the same input."
   ]
  },
  {
   "cell_type": "code",
   "execution_count": null,
   "metadata": {},
   "outputs": [],
   "source": [
    "config_test_0 = np.array([[ 1,  1,  1],\n",
    "                          [-1, -1,  1],\n",
    "                          [-1, -1,  1]])"
   ]
  },
  {
   "cell_type": "code",
   "execution_count": null,
   "metadata": {},
   "outputs": [],
   "source": [
    "config_test_1 = np.array([[ 1, -1, -1,  1, -1,  1],\n",
    "                          [-1, -1, -1,  1, -1,  1],\n",
    "                          [-1,  1, -1, -1, -1,  1],\n",
    "                          [-1,  1, -1,  1,  1,  1],\n",
    "                          [-1,  1, -1, -1,  1, -1],\n",
    "                          [-1, -1, -1,  1,  1,  1]])"
   ]
  },
  {
   "cell_type": "code",
   "execution_count": null,
   "metadata": {},
   "outputs": [],
   "source": [
    "config_test_2 = np.array([[ 1, -1,  1,  1, -1,  1, -1,  1,  1,  1],\n",
    "                          [-1, -1, -1,  1,  1, -1, -1, -1,  1, -1],\n",
    "                          [ 1, -1,  1, -1, -1, -1,  1,  1, -1,  1],\n",
    "                          [ 1, -1,  1,  1,  1, -1,  1, -1,  1, -1],\n",
    "                          [-1, -1,  1,  1, -1,  1, -1,  1,  1,  1],\n",
    "                          [ 1, -1, -1, -1,  1, -1,  1,  1, -1,  1],\n",
    "                          [-1,  1, -1,  1,  1, -1, -1, -1,  1,  1],\n",
    "                          [-1, -1, -1, -1,  1,  1, -1, -1, -1,  1],\n",
    "                          [ 1,  1, -1, -1,  1, -1,  1,  1,  1,  1],\n",
    "                          [ 1,  1, -1, -1, -1,  1,  1,  1,  1, -1]])\n"
   ]
  },
  {
   "cell_type": "markdown",
   "metadata": {},
   "source": [
    "Execute the following cell to make sure your function works correctly. The left column will show the test configurations, and the right column will show the clusters your function found, with different clusters colored in different colors"
   ]
  },
  {
   "cell_type": "code",
   "execution_count": null,
   "metadata": {},
   "outputs": [],
   "source": [
    "for i, config in enumerate([config_test_0, config_test_1, config_test_2]):\n",
    "    labels = get_labels(config)\n",
    "\n",
    "    fig, (ax1, ax2) = plt.subplots(1, 2, figsize=(10,4))\n",
    "    ax1.set_xticks(range(len(config)))\n",
    "    ax1.set_yticks(range(len(config)))\n",
    "    ax2.set_xticks(range(len(config)))\n",
    "    ax2.set_yticks(range(len(config)))\n",
    "    ax1.set_title(\"Configuration\")\n",
    "    ax2.set_title(\"Clusters\")\n",
    "    ax1.imshow(config, cmap=\"Greys\")\n",
    "    ax2.imshow(labels, cmap=\"rainbow\")\n",
    "    \n",
    "    fig.suptitle(f\"Test data {i}\", fontsize=22)"
   ]
  },
  {
   "cell_type": "markdown",
   "metadata": {},
   "source": [
    "If your function doesn't work, you might want to use this cell to inspect your results"
   ]
  },
  {
   "cell_type": "code",
   "execution_count": null,
   "metadata": {},
   "outputs": [],
   "source": [
    "fig, ax = plt.subplots(1, 1, figsize=(10, 9))\n",
    "ax.set_aspect(1)\n",
    "sns.heatmap(labels, annot=True, ax=ax, cmap=\"viridis\")"
   ]
  },
  {
   "cell_type": "markdown",
   "metadata": {},
   "source": [
    "### Measuring cluster sizes\n",
    "Use your `get_labels()` function to find clusters in a large Ising model, say $N=500$. You can use your own Ising implementation. If you use Sethna's code, remember that he uses $s \\in \\{0, 1\\}$ spins!"
   ]
  },
  {
   "cell_type": "code",
   "execution_count": null,
   "metadata": {},
   "outputs": [],
   "source": [
    "...\n",
    "...\n",
    "...\n",
    "labels = get_labels(config)"
   ]
  },
  {
   "cell_type": "code",
   "execution_count": null,
   "metadata": {},
   "outputs": [],
   "source": [
    "plt.figure(figsize=(10, 8))\n",
    "plt.imshow(labels)"
   ]
  },
  {
   "cell_type": "markdown",
   "metadata": {},
   "source": [
    "### Exercise\n",
    "Find an efficient way to measure cluster sizes. Remind that all you care about is the distribution of cluster sizes, their location does not matter. You might want to use the `.reshape()` method of a numpy array, and the `Counter` class from the `collections` package."
   ]
  },
  {
   "cell_type": "code",
   "execution_count": null,
   "metadata": {},
   "outputs": [],
   "source": [
    "def get_sizes(labels):\n",
    "    ...\n",
    "    ...\n",
    "    ...\n",
    "    return sizes"
   ]
  },
  {
   "cell_type": "markdown",
   "metadata": {},
   "source": [
    "### Exercise\n",
    "For $T >> T_c$, spins are essentially uncorrelated. What is the distribution of cluster sizes you expect to find in this case? **Hint** Think about the 1D case assuming totally uncorrelated spins."
   ]
  },
  {
   "cell_type": "markdown",
   "metadata": {},
   "source": [
    "*Your answer here*\n",
    "\n"
   ]
  },
  {
   "cell_type": "markdown",
   "metadata": {},
   "source": [
    "### Exercice\n",
    "Do a simulation at very high temperature and measure the cluster size distribution. Plot your results in log-log scale. Do your results agree with your previous answer?"
   ]
  },
  {
   "cell_type": "markdown",
   "metadata": {},
   "source": [
    "*Your answer here*"
   ]
  },
  {
   "cell_type": "code",
   "execution_count": null,
   "metadata": {},
   "outputs": [],
   "source": [
    "...\n",
    "...\n",
    "config = ...\n",
    "labels = get_labels(config)\n",
    "sizes = get_sizes(labels)"
   ]
  },
  {
   "cell_type": "code",
   "execution_count": null,
   "metadata": {},
   "outputs": [],
   "source": [
    "# use logarithmic bins and logarithmic axes!\n",
    "bins = np.geomspace(min(sizes), max(sizes), num=20)\n",
    "\n",
    "fig, ax = plt.subplots(1, 1, figsize=(5, 4))\n",
    "ax.hist(sizes, bins=bins, histtype=\"step\")\n",
    "ax.set_xscale(\"log\")\n",
    "ax.set_yscale(\"log\")\n",
    "ax.set_xlim(min(sizes), max(sizes))"
   ]
  },
  {
   "cell_type": "markdown",
   "metadata": {},
   "source": [
    "### Exercise\n",
    "\n",
    "At $T_c$, the distribution of cluster sizes is known to be a power law with exponent close to $\\alpha \\simeq 2$.\n",
    "\n",
    "$$\n",
    "P(s) \\propto s^{-\\alpha}\n",
    "$$\n",
    "\n",
    "Do a simulation at $T=T_c$ and compare the resulting cluster size distribution with that obtained at $T>>T_c$."
   ]
  },
  {
   "cell_type": "code",
   "execution_count": null,
   "metadata": {},
   "outputs": [],
   "source": [
    "# do simulation\n",
    "...\n",
    "...\n"
   ]
  },
  {
   "cell_type": "code",
   "execution_count": 1,
   "metadata": {},
   "outputs": [],
   "source": [
    "# plot results\n",
    "...\n",
    "..."
   ]
  },
  {
   "cell_type": "code",
   "execution_count": null,
   "metadata": {},
   "outputs": [],
   "source": []
  }
 ],
 "metadata": {
  "kernelspec": {
   "display_name": "Python 3",
   "language": "python",
   "name": "python3"
  },
  "language_info": {
   "codemirror_mode": {
    "name": "ipython",
    "version": 3
   },
   "file_extension": ".py",
   "mimetype": "text/x-python",
   "name": "python",
   "nbconvert_exporter": "python",
   "pygments_lexer": "ipython3",
   "version": "3.6.7"
  }
 },
 "nbformat": 4,
 "nbformat_minor": 2
}
