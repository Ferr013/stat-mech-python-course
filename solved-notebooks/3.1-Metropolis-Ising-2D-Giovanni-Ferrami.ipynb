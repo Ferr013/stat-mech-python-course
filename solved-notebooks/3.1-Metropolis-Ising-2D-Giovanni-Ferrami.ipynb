{
 "cells": [
  {
   "cell_type": "code",
   "execution_count": 2,
   "metadata": {},
   "outputs": [],
   "source": [
    "import numpy as np\n",
    "import matplotlib.pyplot as plt\n",
    "from IPython import display\n",
    "%matplotlib inline"
   ]
  },
  {
   "cell_type": "code",
   "execution_count": 3,
   "metadata": {},
   "outputs": [],
   "source": [
    "# %load https://gist.githubusercontent.com/fontclos/a398c95d2841dfb19e864d08c1f60201/raw/fd3d86c9836be250ed34be6ec87c9c7dc43b9d4a/matplotlib_defaults.py\n",
    "import matplotlib as mpl\n",
    "\n",
    "mpl.rcParams['axes.titlesize'] = 16\n",
    "mpl.rcParams['axes.labelsize'] = 14\n",
    "mpl.rcParams['legend.fontsize'] = 12\n",
    "mpl.rcParams['xtick.labelsize'] = 12\n",
    "mpl.rcParams['ytick.labelsize'] = 12"
   ]
  },
  {
   "cell_type": "markdown",
   "metadata": {},
   "source": [
    "# The Metropolis algorithm\n",
    "We will build a simple implementation of the **Metropolis** algorithm for the 2D Ising model. As a reminder, a single update of the Metropolis algorithm works as follows:\n",
    "\n",
    "1. Pick a site $(i, j)$ at random.\n",
    "2. Calculate the energy change $\\Delta E$ that flipping the spin $s_{ij}$ would produce.\n",
    "3. If $\\Delta E <0$, flip the spin with probability $1$.\n",
    "4. If $\\Delta E >0$, flip the spin with probability $e^{-\\beta \\Delta E}$."
   ]
  },
  {
   "cell_type": "markdown",
   "metadata": {},
   "source": [
    "### Exercice\n",
    "Write a function that, given an integer $N$, returns an $N \\times N$ array whose elements are randomly picked from {-1, 1}. "
   ]
  },
  {
   "cell_type": "code",
   "execution_count": 4,
   "metadata": {},
   "outputs": [],
   "source": [
    "def create_initial_config(N=None):\n",
    "    \"\"\"\n",
    "    Create the starting initial configuration.\n",
    "    \n",
    "    All elements are [-1, 1] with 50% prob.\n",
    "    The lattice is a square of size N.\n",
    "    \n",
    "    Parameters\n",
    "    ----------\n",
    "    N : int\n",
    "        The system size.\n",
    "\n",
    "    Returns\n",
    "    -------\n",
    "    config : np.array, (N, N)\n",
    "        A random {-1, 1} array of size (N, N).\n",
    "    \"\"\"\n",
    "    config = np.random.randint(2, size=(N,N))\n",
    "    for i in range(N):\n",
    "        for j in range(N):\n",
    "            if(config[i,j]==0):config[i,j]=-1\n",
    "    return config"
   ]
  },
  {
   "cell_type": "markdown",
   "metadata": {},
   "source": [
    "Let us create an initail configuration with our `create_inital_config_function`. A system size of $N=100$ will be enough."
   ]
  },
  {
   "cell_type": "code",
   "execution_count": 5,
   "metadata": {},
   "outputs": [
    {
     "name": "stdout",
     "output_type": "stream",
     "text": [
      "[[ 1 -1 -1 ... -1 -1  1]\n",
      " [ 1  1  1 ...  1  1  1]\n",
      " [-1 -1 -1 ... -1 -1  1]\n",
      " ...\n",
      " [-1  1  1 ... -1 -1 -1]\n",
      " [-1 -1 -1 ...  1 -1 -1]\n",
      " [ 1 -1  1 ... -1  1 -1]]\n"
     ]
    }
   ],
   "source": [
    "config = create_initial_config(N=100)\n",
    "print(config)"
   ]
  },
  {
   "cell_type": "markdown",
   "metadata": {},
   "source": [
    "To plot our system we can use `plt.imshow()`, as follows:"
   ]
  },
  {
   "cell_type": "code",
   "execution_count": 6,
   "metadata": {},
   "outputs": [
    {
     "data": {
      "image/png": "[encoded data removed]",
      "text/plain": [
       "<Figure size 432x288 with 1 Axes>"
      ]
     },
     "metadata": {},
     "output_type": "display_data"
    }
   ],
   "source": [
    "plt.imshow(config);"
   ]
  },
  {
   "cell_type": "markdown",
   "metadata": {},
   "source": [
    "### Exercise \n",
    "We will write our Metropolis update function. Given a site $(i, j)$, what is the change in energy $\\Delta E$ that flipping $S(i, j)$ entails?\n",
    "Recall that only 4 spins are connected to $(i, j)$, so you don't need to compute the energy of the whole system."
   ]
  },
  {
   "cell_type": "markdown",
   "metadata": {},
   "source": [
    "According to the Ising hamiltonian, if we consider a null external field, the change in energy is \n",
    "$$ \\Delta E_{i,j} =  - \\sum_{ <k> } (-s_{i,j}) s_k  \\, \\, \\, + \\sum_{ <k>  } s_{i,j} s_k  = 2 \\sum_{ <k>} s_{i,j} s_k$$\n",
    "\n",
    "where <k> indicated the sum over first neighbours of the (i,j)-th site."
   ]
  },
  {
   "cell_type": "markdown",
   "metadata": {},
   "source": [
    "### Exercise\n",
    "Write a function called `metropolis_single_update()`.  \n",
    "The **input** should be:\n",
    "\n",
    "+ *config*, a lattice configuration as an (N, N) array.\n",
    "+ *T*, the temperatue.\n",
    "\n",
    "There is no need to return anything since in python, functions can modify its input, so we will be updating config *inplace*. But it is useful to return the energy change $\\Delta E$ if one later wants to track the energy during simulations. To simplify things, you can use **periodic boundary conditions** (in python, the modulo operator is `%`)."
   ]
  },
  {
   "cell_type": "code",
   "execution_count": 7,
   "metadata": {},
   "outputs": [],
   "source": [
    "def metropolis_single_update(config=None, T=None):\n",
    "    '''\n",
    "    Do a single Monte Carlo update using Metropolis algorithm.\n",
    "    \n",
    "    Parameters\n",
    "    ----------\n",
    "    config : np.array, (N, N)\n",
    "        The current configuration.\n",
    "    T : float\n",
    "        The temperature.\n",
    "\n",
    "    '''\n",
    "    # make sure config is square\n",
    "    N, M = config.shape\n",
    "    assert N==M\n",
    "    \n",
    "    # choose random site\n",
    "    i = np.random.randint(N)\n",
    "    j = np.random.randint(N)\n",
    "    s =  config[i, j]\n",
    "        \n",
    "    # compute energy cost of flip\n",
    "    # DeltaE is the possible energy cost\n",
    "    # effDeltaE is the real energy cost (depending on whether we did the flip or not)\n",
    "    DeltaE = 0\n",
    "    DeltaE = config[i, j-1] + config[i-1, j]\n",
    "    if(j==N-1):DeltaE += config[i, 0]\n",
    "    else: DeltaE += config[i, j+1]\n",
    "    if(i==N-1):DeltaE += config[0, j]\n",
    "    else: DeltaE += config[i+1, j]\n",
    "    DeltaE = 2*DeltaE*s\n",
    "    effDeltaE = 0\n",
    "\n",
    "    # case DeltaE < 0, flip the spin with prob 1 \n",
    "    if DeltaE < 0:\n",
    "        # flip the spin\n",
    "        s *= -1\n",
    "        # set effective DeltaE to DeltaE \n",
    "        effDeltaE = DeltaE\n",
    "        \n",
    "    # case DeltaE >= 0\n",
    "    else:\n",
    "        # flip the spin with certain probability\n",
    "        if (np.random.rand()<np.exp(-(1/T)*DeltaE)):\n",
    "            # flip the spin\n",
    "            s *= -1\n",
    "            # set effective Delta E \n",
    "            effDeltaE = DeltaE\n",
    "        \n",
    "    # update configuration\n",
    "    # notice there is no need to return the whole configuration, the function\n",
    "    # will modify config _in_place_\n",
    "    config[i, j] = s\n",
    "    \n",
    "    # but it is clever to return the effective DeltaE, since we have already computed it\n",
    "    # notice that if we didn't flip the spin, the change in energy is 0\n",
    "    return effDeltaE"
   ]
  },
  {
   "cell_type": "markdown",
   "metadata": {},
   "source": [
    "## Visualizing the simulation on real time\n",
    "To see if our Metropolis algorithm works, you might want to simulate systems at different temperatures, and observe how the configuration evolves trought time. To do this you need the `display` module. Below you will find an example of how to use it.\n",
    "\n",
    "For the 2D Ising model, the **critical temperature** is known to be\n",
    "$$\n",
    "T_c = \\frac{2}{\\ln(1+\\sqrt{2})} \\simeq 2.2691853...\n",
    "$$\n",
    "Try executing the cell below at different values of the temperature, for different system size. "
   ]
  },
  {
   "cell_type": "code",
   "execution_count": 8,
   "metadata": {},
   "outputs": [
    {
     "data": {
      "image/png": "[encoded data removed]",
      "text/plain": [
       "<Figure size 432x360 with 1 Axes>"
      ]
     },
     "metadata": {},
     "output_type": "display_data"
    }
   ],
   "source": [
    "T_c = 2/np.log(1+np.sqrt(2))\n",
    "#T_c=0.00001\n",
    "\n",
    "# create initial random configuration\n",
    "config = create_initial_config(N=100)\n",
    "\n",
    "# set up figure, plot first frame\n",
    "fig, ax = plt.subplots(1, 1, figsize=(6,5))\n",
    "# draw the initial configuration,\n",
    "# naming the plot \"im\".\n",
    "im = ax.imshow(config)\n",
    "\n",
    "for t in range(100000):\n",
    "    # update the system\n",
    "    DeltaE = metropolis_single_update(config, T=T_c)\n",
    "    # replot every 1000 MC updates\n",
    "    if t%1000==0:\n",
    "        # update the data of the plot (not the whole figure!)\n",
    "        im.set_data(config)\n",
    "        # rerender\n",
    "        display.display(plt.gcf())\n",
    "        display.clear_output(wait=True)"
   ]
  },
  {
   "cell_type": "markdown",
   "metadata": {},
   "source": [
    "### Exercice\n",
    "Write a function that computes the energy of a configuration, and another that tracks its evolution over time."
   ]
  },
  {
   "cell_type": "code",
   "execution_count": 9,
   "metadata": {},
   "outputs": [],
   "source": [
    "def get_energy(config):\n",
    "    \"\"\"\n",
    "    Compute the energy of a configuration.\n",
    "    \n",
    "    The energy is defined as $E = -\\sum_{(a, b)} S_a S_b$,    \n",
    "    where the sum runs over pairs of adjacent spins.\n",
    "    \n",
    "    Parameters\n",
    "    ----------\n",
    "    config : np.array, (N, N)\n",
    "        The system configuration.\n",
    "        \n",
    "        \n",
    "    Returns\n",
    "    -------\n",
    "    E : float\n",
    "        The energy of the configuration.\n",
    "    \"\"\"\n",
    "    N = len(config)\n",
    "    # list of pairs of adjacent sites as four-element tuples:\n",
    "    # (i0, j0, i1, j1) represents two adjacent sites located\n",
    "    # at (0, j0) and (i1, j1)\n",
    "    horizontal_edges = [\n",
    "        (i, j-1, i, j)\n",
    "        for i in range(N) for j in range(N)\n",
    "    ]\n",
    "    vertical_edges = [\n",
    "        (i-1, j, i, j)\n",
    "        for i in range(N) for j in range(N)\n",
    "    ]\n",
    "    # summing lists in python concatenates them\n",
    "    # [1, 2, 3] + [4, 5] = [1, 2, 3, 4, 5]\n",
    "    edges = horizontal_edges + vertical_edges\n",
    "    E = 0\n",
    "    for i1, j1, i2, j2 in edges:\n",
    "        E -= config[i1,j1]*config[i2,j2]\n",
    "    \n",
    "    return E #there is a 2*E here"
   ]
  },
  {
   "cell_type": "code",
   "execution_count": 10,
   "metadata": {},
   "outputs": [],
   "source": [
    "def get_energy_evolution(N=20, T=T_c, n_updates=50000):\n",
    "    \"\"\"\n",
    "    Compute the energy evolution of a 2D Ising instance.\n",
    "    \n",
    "    Parameters\n",
    "    ----------\n",
    "    N : int\n",
    "        The system size.\n",
    "    T : float\n",
    "        The temperature.\n",
    "    n_updates : int\n",
    "        Number of Metropolis updates.\n",
    "        \n",
    "    Returns\n",
    "    -------\n",
    "    Es : np.array, (n_updates, )\n",
    "    \"\"\"\n",
    "    \n",
    "    config = create_initial_config(N)\n",
    "    energy = get_energy(config)\n",
    "    Es = np.array(energy)\n",
    "    #np.append(Es,energy)\n",
    "    for t in range(n_updates):\n",
    "        energy += metropolis_single_update(config,T)\n",
    "        #print(energy)\n",
    "        Es = np.append(Es,energy)\n",
    "    \n",
    "    return Es"
   ]
  },
  {
   "cell_type": "markdown",
   "metadata": {},
   "source": [
    "### Exercise\n",
    "Compute the energy of your system during a long simulation, and plot it as a function of time.\n",
    "Can you distinguish two qualitatively different periods? What do they correspond to?"
   ]
  },
  {
   "cell_type": "code",
   "execution_count": 10,
   "metadata": {},
   "outputs": [
    {
     "name": "stdout",
     "output_type": "stream",
     "text": [
      "[   0    0   -4 ... -472 -468 -468]\n"
     ]
    }
   ],
   "source": [
    "energy_evolution = get_energy_evolution(20, T_c, 50000)\n",
    "print(energy_evolution)"
   ]
  },
  {
   "cell_type": "code",
   "execution_count": 11,
   "metadata": {},
   "outputs": [
    {
     "data": {
      "text/plain": [
       "<matplotlib.legend.Legend at 0x7f5b9d284198>"
      ]
     },
     "execution_count": 11,
     "metadata": {},
     "output_type": "execute_result"
    },
    {
     "data": {
      "image/png": "[encoded data removed]",
      "text/plain": [
       "<Figure size 432x288 with 1 Axes>"
      ]
     },
     "metadata": {},
     "output_type": "display_data"
    }
   ],
   "source": [
    "fig, ax = plt.subplots(1, 1, figsize=(6, 4))\n",
    "\n",
    "ax.semilogx(energy_evolution, label=\"evo\")\n",
    "\n",
    "ax.set_xlabel(\"$t$\")\n",
    "ax.set_ylabel(\"$E$\")\n",
    "ax.legend()"
   ]
  },
  {
   "cell_type": "markdown",
   "metadata": {},
   "source": [
    "*Answer*: We can distinguish two periods in the graph.\n",
    "The first from $t=0$ to almost $t=10^4$ is characterized by a monotonic decreasing value of the energy, the second from $t=10^4$ onward is an oscillation around the minimum."
   ]
  },
  {
   "cell_type": "markdown",
   "metadata": {},
   "source": [
    "# Efficient Metropolis\n",
    "Our implementation of the Ising model was not very efficient. To do this exercice, we will use part of the code from Sethna's book, which is much more efficient and can be found here:\n",
    "\n",
    "[Sethan's book computer exercices](http://pages.physics.cornell.edu/~myers/teaching/ComputationalMethods/ComputerExercises/Ising/Ising.html)\n",
    "\n",
    "To import code from an external file, we need to add its directory to the PATH\n",
    "\n"
   ]
  },
  {
   "cell_type": "code",
   "execution_count": 11,
   "metadata": {},
   "outputs": [],
   "source": [
    "import sys\n",
    "sys.path.append(\"SethnasBookCode/\")\n",
    "from Ising import IsingModel"
   ]
  },
  {
   "cell_type": "markdown",
   "metadata": {},
   "source": [
    "Their implementation is based on a `Class`, which means we need to instantiate the model. For instance:"
   ]
  },
  {
   "cell_type": "code",
   "execution_count": 12,
   "metadata": {},
   "outputs": [],
   "source": [
    "# create an instance of IsingModel\n",
    "ising = IsingModel(N=100)"
   ]
  },
  {
   "cell_type": "code",
   "execution_count": 13,
   "metadata": {},
   "outputs": [
    {
     "data": {
      "text/plain": [
       "array([[1, 1, 0, ..., 1, 0, 1],\n",
       "       [1, 1, 1, ..., 1, 1, 0],\n",
       "       [0, 0, 0, ..., 0, 0, 1],\n",
       "       ...,\n",
       "       [1, 1, 1, ..., 1, 1, 1],\n",
       "       [1, 1, 1, ..., 0, 1, 1],\n",
       "       [0, 1, 1, ..., 1, 0, 1]])"
      ]
     },
     "execution_count": 13,
     "metadata": {},
     "output_type": "execute_result"
    }
   ],
   "source": [
    "# the state of the system is stored in .lattice\n",
    "ising.lattice"
   ]
  },
  {
   "cell_type": "code",
   "execution_count": 14,
   "metadata": {},
   "outputs": [
    {
     "data": {
      "text/plain": [
       "<matplotlib.image.AxesImage at 0x7febb47546a0>"
      ]
     },
     "execution_count": 14,
     "metadata": {},
     "output_type": "execute_result"
    },
    {
     "data": {
      "image/png": "[encoded data removed]",
      "text/plain": [
       "<Figure size 432x288 with 1 Axes>"
      ]
     },
     "metadata": {},
     "output_type": "display_data"
    }
   ],
   "source": [
    "mpl.rcParams['axes.spines.right'] = True\n",
    "mpl.rcParams['axes.spines.top'] = True\n",
    "plt.imshow(ising.lattice)"
   ]
  },
  {
   "cell_type": "markdown",
   "metadata": {},
   "source": [
    "Notice that this implementation uses 0, 1 spins instead of -1, 1 as we are used to! To run the simulation, we call the `.SweepMetropolis()` method. If you go to the source file at `SethnasBookCode/Ising.py`, you can inspect all the code. You will notice that all `.Sweep...()` methods perform $N^2$ updates per time-step. This is useful because time-scales become independent of system size."
   ]
  },
  {
   "cell_type": "code",
   "execution_count": 15,
   "metadata": {},
   "outputs": [],
   "source": [
    "ising.SweepMetropolis(nTimes=100)"
   ]
  },
  {
   "cell_type": "code",
   "execution_count": 16,
   "metadata": {},
   "outputs": [
    {
     "data": {
      "text/plain": [
       "<matplotlib.image.AxesImage at 0x7febb4720668>"
      ]
     },
     "execution_count": 16,
     "metadata": {},
     "output_type": "execute_result"
    },
    {
     "data": {
      "image/png": "[encoded data removed]",
      "text/plain": [
       "<Figure size 432x288 with 1 Axes>"
      ]
     },
     "metadata": {},
     "output_type": "display_data"
    }
   ],
   "source": [
    "plt.imshow(ising.lattice)"
   ]
  },
  {
   "cell_type": "markdown",
   "metadata": {},
   "source": [
    "The cell bellow will display 3 systems side-by-side, running at different temperatures. All parameters are set at the top. Try changing some values and see what happens."
   ]
  },
  {
   "cell_type": "code",
   "execution_count": 20,
   "metadata": {},
   "outputs": [],
   "source": [
    "#################\n",
    "# set parameters\n",
    "system_size = 100\n",
    "H = 0.0\n",
    "T_below = 1.5\n",
    "T_critical = 2.269185314213022\n",
    "T_above = 3.5\n",
    "n_sweeps = 100\n",
    "###############\n",
    "\n",
    "# create three instances of IsingModel\n",
    "ising_below = IsingModel(N=system_size, T=T_below, H=H)\n",
    "ising_critical = IsingModel(N=system_size, T=T_critical, H=H)\n",
    "ising_above = IsingModel(N=system_size, T=T_above, H=H)\n",
    "\n",
    "# give them names\n",
    "isings = [ising_below, ising_critical, ising_above]\n",
    "labels = [\"below $T_c$\", \"at $T_c$\", \"above $T_c$\"]"
   ]
  },
  {
   "cell_type": "code",
   "execution_count": 21,
   "metadata": {},
   "outputs": [
    {
     "data": {
      "image/png": "[encoded data removed]",
      "text/plain": [
       "<Figure size 1224x288 with 3 Axes>"
      ]
     },
     "metadata": {},
     "output_type": "display_data"
    }
   ],
   "source": [
    "fig, axx = plt.subplots(1, 3, figsize=(17,4))\n",
    "heatmap = {}\n",
    "for ax, ising, label in zip(axx, isings, labels):\n",
    "    heatmap[label] = ax.imshow(ising.lattice)\n",
    "    ax.set_title(label, fontsize=16)\n",
    "\n",
    "for _ in range(n_sweeps):\n",
    "    for ax, ising, label in zip(axx, isings, labels):\n",
    "        ising.SweepMetropolis(nTimes=1)\n",
    "        heatmap[label].set_data(ising.lattice)\n",
    "    display.display(plt.gcf())\n",
    "    display.clear_output(wait=True)"
   ]
  },
  {
   "cell_type": "markdown",
   "metadata": {},
   "source": [
    "### Exercice\n",
    "How much faster is Sethna's implementation with respect to ours? Use the cell magic `%%timeit` to measure how long a command takes to execute:"
   ]
  },
  {
   "cell_type": "code",
   "execution_count": 20,
   "metadata": {},
   "outputs": [
    {
     "name": "stdout",
     "output_type": "stream",
     "text": [
      "1.39 s ± 4.89 ms per loop (mean ± std. dev. of 7 runs, 1 loop each)\n"
     ]
    }
   ],
   "source": [
    "%%timeit\n",
    "# your Ising implementation running for some number of updates\n",
    "N = 300\n",
    "config = create_initial_config(N)\n",
    "for t in range (N*N) :\n",
    "    E = metropolis_single_update(config, 2/np.log(1+np.sqrt(2)))"
   ]
  },
  {
   "cell_type": "code",
   "execution_count": 21,
   "metadata": {},
   "outputs": [
    {
     "name": "stdout",
     "output_type": "stream",
     "text": [
      "476 ms ± 6.12 ms per loop (mean ± std. dev. of 7 runs, 1 loop each)\n"
     ]
    }
   ],
   "source": [
    "%%timeit\n",
    "# Sethan's implementation running for some **equivalent** number of updates\n",
    "N = 300\n",
    "m_ising = IsingModel(N)\n",
    "m_ising.SweepMetropolis(nTimes=1)"
   ]
  },
  {
   "cell_type": "markdown",
   "metadata": {},
   "source": [
    "My code: 1.47 s ± 65.3 ms per loop (mean ± std. dev. of 7 runs, 1 loop each) <br>\n",
    "Sethna's:487 ms ± 11.1 ms per loop (mean ± std. dev. of 7 runs, 1 loop each)\n",
    "\n",
    "Sethna's code is almost $2.5$ times faster than mine."
   ]
  },
  {
   "cell_type": "markdown",
   "metadata": {},
   "source": [
    "## Magnetization\n",
    "We will now compute the magnetization $M$ as a function of the temperature $T$. To speed up simulations even more, we will use the Wolff algorithm, which Sethna's code already implements in the `.SweepWolff()` method."
   ]
  },
  {
   "cell_type": "markdown",
   "metadata": {},
   "source": [
    "### Exercise\n",
    "For a system of size $N=100$, approximately how many sweeps of the Wolff algorithm are necessary in practice to be in equilibrium? Try starting with smaller values of $N$, and increase gradually. "
   ]
  },
  {
   "cell_type": "code",
   "execution_count": 22,
   "metadata": {},
   "outputs": [],
   "source": [
    "# set system size, temperature\n",
    "system_size = 100 \n",
    "\n",
    "#temperature = 0.5\n",
    "#temperature = T_c\n",
    "#temperature = 5\n",
    "temperature = 10\n",
    "#temperature = 100\n",
    "\n",
    "steps_num = 500\n",
    "graph_check_y = np.zeros(steps_num)\n",
    "# run some Wolff sweeps, check if equilibrium\n",
    "m_ising = IsingModel(system_size, temperature)\n",
    "for i in range(steps_num):\n",
    "    m_ising.SweepWolff()\n",
    "    graph_check_y[i] = np.mean(m_ising.lattice)"
   ]
  },
  {
   "cell_type": "code",
   "execution_count": 23,
   "metadata": {},
   "outputs": [],
   "source": [
    "absc = np.zeros(steps_num)\n",
    "theoretical_graph = np.zeros(steps_num)\n",
    "for i in range (steps_num):\n",
    "    absc[i]=i\n",
    "    theoretical_graph[i] = 0.5"
   ]
  },
  {
   "cell_type": "code",
   "execution_count": 24,
   "metadata": {},
   "outputs": [
    {
     "data": {
      "text/plain": [
       "<matplotlib.legend.Legend at 0x7f5b9c3fecc0>"
      ]
     },
     "execution_count": 24,
     "metadata": {},
     "output_type": "execute_result"
    },
    {
     "data": {
      "image/png": "[encoded data removed]",
      "text/plain": [
       "<Figure size 432x288 with 1 Axes>"
      ]
     },
     "metadata": {},
     "output_type": "display_data"
    }
   ],
   "source": [
    "fig, ax = plt.subplots(1, 1, figsize=(6, 4))\n",
    "\n",
    "ax.plot(absc, graph_check_y, label=\"Wolff_equilibrium\")\n",
    "ax.plot(absc, theoretical_graph, label=\"teorethical_equilibrium\")\n",
    "ax.set_xlabel(\"$step$\")\n",
    "ax.set_ylabel(\"$mean-spin$\")\n",
    "ax.legend(\"mean\")"
   ]
  },
  {
   "cell_type": "markdown",
   "metadata": {},
   "source": [
    "Answer:\n",
    "\n",
    "The Wolff alogrithm is most appropriate to describe systems around $T_c$, therefore it rapidly converge to the equilibrium at this temperature in around 25 steps. In this conditions the system is very unstable as for its mean magnetization (that's why single spin flips are inefficent and Wolff performs better). For $T>T_c$ the system is already at $t=0$ in a configuration near to the equilibrium one, so the Wolff algorithm tends to oscillate around the minimum of energy with a costant $\\sigma$ after few steps.\n",
    "For $T<T_c$ the system tend to a mean magnetization of almost $\\pm 1$, and the Wolff algorithm converges in very few steps ($\\sim 5$)"
   ]
  },
  {
   "cell_type": "markdown",
   "metadata": {},
   "source": [
    "### Exercise\n",
    "Write a function that computes the magnetization of a 2D Ising system after certain equilibration period."
   ]
  },
  {
   "cell_type": "code",
   "execution_count": 25,
   "metadata": {},
   "outputs": [],
   "source": [
    "def calculate_magnetization(system_size=None, temperature=None, equilibration_time=None):\n",
    "    \"\"\"\n",
    "    Calculate the magnetization of a 2D Ising model.\n",
    "    \n",
    "    Parameters\n",
    "    ----------\n",
    "    system_size : int\n",
    "        The lattice size.\n",
    "    temperature : float\n",
    "        The simulation temperature.\n",
    "    equilibration_time : int\n",
    "        Number of Wolff sweeps before measuring M.\n",
    "        \n",
    "    \"\"\"\n",
    "    # instantiate model\n",
    "    m_ising = IsingModel(system_size, temperature)\n",
    "    # equilibrate\n",
    "    m_ising.SweepWolff(equilibration_time)\n",
    "    # compute magnetization\n",
    "    m = np.mean(m_ising.lattice*2-1) #renormalition centered in zero\n",
    "    return m\n"
   ]
  },
  {
   "cell_type": "markdown",
   "metadata": {},
   "source": [
    "### Exercise\n",
    "+ Compute the magnetization for a system of size $N=64$, for diverent values of $T\\in[1.5, 3.5]$.\n",
    "+ Remember to choose wisely the equilibration time!\n",
    "+ Plot $|M|$ as a function of $T$, and mark the critical temperature in your plot using the `plt.axvline()` function."
   ]
  },
  {
   "cell_type": "code",
   "execution_count": 26,
   "metadata": {},
   "outputs": [],
   "source": [
    "# define range of temperatures\n",
    "temperatures = np.linspace(1.5, 3.5, num=100)\n",
    "# system size\n",
    "system_size = 64\n",
    "# equilibration time\n",
    "equilibration_time = 100\n",
    "\n",
    "# loop over temperatures, compute magnetizations\n",
    "magnetizations = []\n",
    "for temperature in temperatures:\n",
    "    magnetization = calculate_magnetization(system_size, temperature, equilibration_time)\n",
    "    magnetizations.append(magnetization)"
   ]
  },
  {
   "cell_type": "code",
   "execution_count": 27,
   "metadata": {},
   "outputs": [
    {
     "data": {
      "text/plain": [
       "Text(0, 0.5, '$M$')"
      ]
     },
     "execution_count": 27,
     "metadata": {},
     "output_type": "execute_result"
    },
    {
     "data": {
      "image/png": "[encoded data removed]",
      "text/plain": [
       "<Figure size 360x288 with 1 Axes>"
      ]
     },
     "metadata": {},
     "output_type": "display_data"
    }
   ],
   "source": [
    "# define critical temperature\n",
    "T_c = 2/np.log(1+np.sqrt(2))\n",
    "\n",
    "mpl.rcParams['axes.spines.right'] = False\n",
    "mpl.rcParams['axes.spines.top'] = False\n",
    "\n",
    "fig, ax = plt.subplots(1, 1, figsize=(5,4))\n",
    "ax.scatter(\n",
    "    temperatures, np.abs(magnetizations),\n",
    "    # style keywords\n",
    "    edgecolors=\"red\", color=\"blue\", s=25\n",
    ")\n",
    "ax.axvline(\n",
    "    T_c,\n",
    "    # style keywords\n",
    "    c=\"green\", lw=1, ls = \"dashed\"\n",
    ")\n",
    "ax.set_title(\"Magnetization over steps\")\n",
    "ax.set_xlabel(\"$T$\")\n",
    "ax.set_ylabel(\"$M$\")"
   ]
  },
  {
   "cell_type": "markdown",
   "metadata": {},
   "source": [
    "## Susceptibility and Specific Heat\n"
   ]
  },
  {
   "cell_type": "markdown",
   "metadata": {},
   "source": [
    "In this exercice, we will compute the susceptibility $\\chi$ and the specific heat $C$. Using formula (6.13) in the book, we have that\n",
    "$$\n",
    "C = \\frac{1}{T^2} \\left\\langle (E - \\langle E \\rangle)^2 \\right\\rangle.\n",
    "$$\n",
    "Remember that this is only valid in **equilibrium**, which means that we can only measure energy fluctuations **after a transient** equilibration time."
   ]
  },
  {
   "cell_type": "markdown",
   "metadata": {},
   "source": [
    "### Exercise\n",
    "Find a convenient formula to measure the susceptibility $\\chi$ in a simulation."
   ]
  },
  {
   "cell_type": "markdown",
   "metadata": {},
   "source": [
    "*Answer*:\n",
    "\n",
    "By definition, susceptibility plays for magnetism an analougus role of specific heat with energy. So in the case of magnetization, in the canonical ensemble at themperature $T$, with an analogous procedure we get:\n",
    "$$\n",
    "\\chi = \\frac{1}{T} \\left\\langle (M - \\langle M \\rangle)^2 \\right\\rangle\n",
    "$$"
   ]
  },
  {
   "cell_type": "markdown",
   "metadata": {},
   "source": [
    "### Exercise\n",
    "Write a function that computes the energy of an Ising configuration"
   ]
  },
  {
   "cell_type": "code",
   "execution_count": 28,
   "metadata": {},
   "outputs": [],
   "source": [
    "def compute_energy(ising):\n",
    "    \"\"\"Compute the energy of an ising object.\"\"\"\n",
    "    config = ising.lattice*2-1\n",
    "    N = len(config)\n",
    "    \n",
    "    horizontal_edges = [\n",
    "        (i, j-1, i, j)\n",
    "        for i in range(N) for j in range(N)\n",
    "    ]\n",
    "    vertical_edges = [\n",
    "        (i-1, j, i, j)\n",
    "        for i in range(N) for j in range(N)\n",
    "    ]\n",
    "    edges = horizontal_edges + vertical_edges\n",
    "    E = 0\n",
    "    for i1, j1, i2, j2 in edges:\n",
    "        E -= config[i1,j1]*config[i2,j2]\n",
    "\n",
    "    return E / N**2"
   ]
  },
  {
   "cell_type": "markdown",
   "metadata": {},
   "source": [
    "### Exercise\n",
    "Write a function that computes the susceptibility and the specific heat of a 2D Ising system. You might use the Wolff algorithm to speed up your simulations."
   ]
  },
  {
   "cell_type": "code",
   "execution_count": 29,
   "metadata": {},
   "outputs": [],
   "source": [
    "def calculate_susceptibility_specific_heat(system_size=None, temperature=None, equilibration_time=None, n_samples=None):\n",
    "    \"\"\"\n",
    "    Simulate a 2D Ising model and measure its\n",
    "    specific heat and susceptibility at equilibrium.\n",
    "    \n",
    "    Parameters\n",
    "    ----------\n",
    "    system_size : int\n",
    "        The lattice side length.\n",
    "    temperature :  float.\n",
    "        The simulation temeperature.\n",
    "    equilibration_time : int\n",
    "        A transient period to allow for thermalization.\n",
    "    n_samples : int\n",
    "        The number of samples taken to compute fluctuations.\n",
    "\n",
    "    \"\"\"\n",
    "    # initiate model\n",
    "    m_ising = IsingModel(system_size, temperature)\n",
    "    # thermalize (hopefully!)\n",
    "    m_ising.SweepWolff(equilibration_time)\n",
    "    \n",
    "    # create empty lists for magnetizations, energies, and their squares\n",
    "    ms = []\n",
    "    m2s = []\n",
    "    es = []\n",
    "    e2s = []\n",
    "    \n",
    "    # loop over n_samples \n",
    "    for k in range(n_samples):\n",
    "        # change from 0,1 to -1,1 notation\n",
    "        config = m_ising.lattice*2-1\n",
    "        # get magnetization\n",
    "        m = np.abs(config.mean())\n",
    "        ms.append(m); m2s.append(m**2)\n",
    "        # get energy\n",
    "        e = compute_energy(m_ising)\n",
    "        es.append(e); e2s.append(e**2)\n",
    "        # update system\n",
    "        m_ising.SweepWolff()\n",
    "    \n",
    "    # compute susceptibility and specific heat\n",
    "    susceptibility = 1/temperature*(np.mean(m2s)-np.mean(ms)**2)\n",
    "    specific_heat = 1/temperature**2*(np.mean(e2s)-np.mean(es)**2)\n",
    "    \n",
    "    return susceptibility, specific_heat\n",
    "\n"
   ]
  },
  {
   "cell_type": "markdown",
   "metadata": {},
   "source": [
    "### Exercise\n",
    "+ Compute $C$ and $\\chi$ at different temperatures, for a small system of size $N<50$. You will need to find what are the right equilibration times. A good range of temperatures is $T \\in [1.5, 3.5]$.\n",
    "+ Make two plots, showing $\\chi$ and $C$ as a function of $T$. Mark the critical temperature $T_c$ with a vertical line using `ax.axvline(...)`."
   ]
  },
  {
   "cell_type": "code",
   "execution_count": 30,
   "metadata": {},
   "outputs": [],
   "source": [
    "# define range of temperatures: 50 points from 1.5 to 4.\n",
    "temperatures = np.linspace(1.5, 3.5, num=50)\n",
    "# system size\n",
    "system_size = 25\n",
    "# equilibration time\n",
    "equilibration_time = 100\n",
    "# n_samples\n",
    "n_samples = 25\n",
    "\n",
    "# loop over temperatures, compute susceptibility and specific_heat\n",
    "susceptibilities = []\n",
    "specific_heats = []\n",
    "for temperature in temperatures:\n",
    "    susceptibility, specific_heat = calculate_susceptibility_specific_heat(system_size, temperature, \n",
    "                                                                           equilibration_time, n_samples)\n",
    "    susceptibilities.append(susceptibility)\n",
    "    specific_heats.append(specific_heat)\n"
   ]
  },
  {
   "cell_type": "code",
   "execution_count": 31,
   "metadata": {},
   "outputs": [
    {
     "data": {
      "image/png": "[encoded data removed]",
      "text/plain": [
       "<Figure size 720x216 with 2 Axes>"
      ]
     },
     "metadata": {},
     "output_type": "display_data"
    }
   ],
   "source": [
    "fig, (ax1, ax2) = plt.subplots(1, 2, figsize=(10,3))\n",
    "\n",
    "ax=ax1\n",
    "ax.plot(temperatures, susceptibilities, color=\"blue\")\n",
    "ax.axvline(T_c, color=\"0.2\", ls=\"dashed\")\n",
    "ax.set_ylabel(\"$\\chi$\")\n",
    "ax.set_xlabel(\"$T$\")\n",
    "ax.set_title(\"Susceptibility\")\n",
    "\n",
    "ax=ax2\n",
    "ax.plot(temperatures, specific_heats, color=\"green\")\n",
    "ax.axvline(T_c, color=\"0.2\", ls=\"dashed\")\n",
    "ax.set_ylabel(\"$C$\")\n",
    "ax.set_xlabel(\"$T$\")\n",
    "ax.set_title(\"Specific heat\");\n"
   ]
  },
  {
   "cell_type": "markdown",
   "metadata": {},
   "source": [
    "### Exercise\n",
    "Discuss whether or not your results proof the existence of a phase transition."
   ]
  },
  {
   "cell_type": "markdown",
   "metadata": {},
   "source": [
    "*Answer*:\n",
    "\n",
    "The susceptibility exhibits a delta-like profile centered around $T_c$, and as it is the derivative of the magnetization m (that as we have seen previously goes to zero very rapidly for $T>T_c$) we know that m will exhibits a step-function-like profile around the same point.\n",
    "Taking m as the order parameter of the system in the magnetize (ferromagnetic) state, we see a phase transition around $T_c$ where the order parameter drops to zero and the system gains isotropic symmetry (in the paramagnetic phase the spins are uncorrelated)."
   ]
  }
 ],
 "metadata": {
  "kernelspec": {
   "display_name": "Python 3",
   "language": "python",
   "name": "python3"
  },
  "language_info": {
   "codemirror_mode": {
    "name": "ipython",
    "version": 3
   },
   "file_extension": ".py",
   "mimetype": "text/x-python",
   "name": "python",
   "nbconvert_exporter": "python",
   "pygments_lexer": "ipython3",
   "version": "3.6.8"
  }
 },
 "nbformat": 4,
 "nbformat_minor": 2
}
