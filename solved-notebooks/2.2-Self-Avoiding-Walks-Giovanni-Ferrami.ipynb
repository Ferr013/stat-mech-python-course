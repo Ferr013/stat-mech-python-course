{
 "cells": [
  {
   "cell_type": "code",
   "execution_count": 1,
   "metadata": {},
   "outputs": [],
   "source": [
    "import numpy as np\n",
    "import matplotlib.pyplot as plt\n",
    "%matplotlib inline"
   ]
  },
  {
   "cell_type": "code",
   "execution_count": 2,
   "metadata": {},
   "outputs": [],
   "source": [
    "import matplotlib as mpl\n",
    "\n",
    "mpl.rcParams['axes.titlesize'] = 16\n",
    "mpl.rcParams['axes.labelsize'] = 14\n",
    "mpl.rcParams['legend.fontsize'] = 12\n",
    "mpl.rcParams['xtick.labelsize'] = 12\n",
    "mpl.rcParams['ytick.labelsize'] = 12\n",
    "mpl.rcParams['axes.spines.right'] = False\n",
    "mpl.rcParams['axes.spines.top'] = False"
   ]
  },
  {
   "cell_type": "markdown",
   "metadata": {},
   "source": [
    "# Self-Avoiding Walks\n",
    "Self-avoiding walks (SAW) are simply random walks in a regular lattice with the additional constraint that no point can be visited more than once. That is, SAW cannot intersect themselves. The most well-known application of SAW is to model linear polymers, where obviously two monomers cannot occupy the same space (excluded volume effect).\n",
    "\n",
    "\n",
    "You can read more about self-avoiding walks in this nice introduction by Gordon Slade:\n",
    "\n",
    "[Self-Avoiding Walks, by Gordon Slade](https://www.math.ubc.ca/~slade/intelligencer.pdf)"
   ]
  },
  {
   "cell_type": "markdown",
   "metadata": {},
   "source": [
    "## Simulating Self-Avoiding Walks\n",
    "Generating a SAW is not trivial. If you try to generate a SAW stochastically, that is, one step at a time, you will miserably fail: your walker might get into traps (configurations with no allowed movements), and if it does you will have to discard your simulation. It turns out you will have to discard your simulation *really* often, so that for large lengths, you will basically never find a valid path. In addition, the paths you will find for short lengths will not come up with the right probabilities. Bear in mind that we want to **uniformly sample** the set of SAW of given length $n$, SAW($n$). That is, we want that all paths from SAW($n$) are generated with the same probability.\n",
    "\n",
    "The solution is to use a Monte Carlo algorithm that, given one element $\\alpha \\in \\text{SAW}(n)$, generates a new one $\\beta \\in \\text{SAW}(n)$ with some probability $P_{\\alpha \\beta}$. If in addition our algorithm satisfies **detailed balance** and is **ergodic**, then we known that it will converge to the equilibrium distribution (the uniform distribution in our case).\n"
   ]
  },
  {
   "cell_type": "markdown",
   "metadata": {},
   "source": [
    "## The pivot algorithm\n",
    "We will implement the pivot algorithm, which is simple, effective, and satisfies detailed balance and ergodicity. You can read about the details of the pivot algorithm here:\n",
    "\n",
    "[The Pivot Algorithm: A Highly Efficient Monte Carlo Method for the Self-Avoiding Walk](https://link.springer.com/article/10.1007/BF01022990)\n",
    "\n",
    "(tip: if you're at home, **do not** use tools such as sci-hub to download the paper).\n",
    "\n",
    "Given a self-avoiding walk of length $n$, the pivot algorithm generates the next walk $\\beta \\in \\text{SAW}(n)$ as follows:\n",
    "\n",
    "1. **Choose a point of $\\alpha$ at random**, splitting the path in two bits: the head (from the origin to the chosen point) and the tail (from the chosen point to the end of the path). Notice that both the head and the tail are SAWs.\n",
    "2. **Apply a transformation to the tail**, leaving the head intact. The transformation must be an orthoganl transformation that leaves the regular lattice intact (so, either a reflection or a $90º, 180º$ or $270º$ rotation). For simplicity, we will use only **rotations** (read the paper to see why this is ok).\n",
    "3. **Check if the new path is self-avoiding**. If so, return it. Otherwise, return the original path.\n",
    "\n",
    "Iterating these steps one obtains a **Markov** chain of SAWs: $\\alpha_1 \\to \\alpha_2 \\to \\dots \\to \\alpha_M $. Notice that $\\alpha_i$ are not uncorrelated, but because the algorithm satisfies detailed balance and is ergodic, we know that it approaches the equilibrium distribution. This means that we can use our Markov chain to compute **expected values** as long as it is long enough."
   ]
  },
  {
   "cell_type": "markdown",
   "metadata": {},
   "source": [
    "## Implementing the pivot step in 2D\n",
    "To implement the **pivot algorithm** in 2D, we will write one function that does steps one and two, and one function that does step 3. We will also need a function to generate standard 2D random walks."
   ]
  },
  {
   "cell_type": "markdown",
   "metadata": {},
   "source": [
    "### Exercise\n",
    "Write a function `get_traj` that generates a 2D random walk of given length."
   ]
  },
  {
   "cell_type": "code",
   "execution_count": 3,
   "metadata": {},
   "outputs": [],
   "source": [
    "def get_traj(length):\n",
    "    \"\"\"Generate a 2D random walk of given length\"\"\"\n",
    "    dim=2\n",
    "    traj = np.ndarray(shape=(length,dim), dtype=int)\n",
    "    for p in range(length):\n",
    "        random_dim = np.random.randint(0,dim)\n",
    "        x = np.zeros(dim)\n",
    "        if(np.random.uniform() < 0.5):         \n",
    "            x[random_dim]+=1\n",
    "        else:\n",
    "            x[random_dim]+=-1\n",
    "        traj[p] = x\n",
    "    return np.cumsum(traj,axis=0)"
   ]
  },
  {
   "cell_type": "markdown",
   "metadata": {},
   "source": [
    "### Exercise\n",
    "Write a function `pivot_traj` that, given a 2D random walk, performs steps 1 and 2 of the pivot algorithm. Some useful functions:\n",
    "```python\n",
    "np.random.randint()\n",
    "np.concatenate()\n",
    "```\n",
    "You might also want to multiply matrices using the `@` operator:\n",
    "```python\n",
    ">>> a = np.array([[1, 2], [3, 4], [5, 6]])\n",
    ">>> b = np.array([1, 1])\n",
    ">>> a @ b\n",
    "array([ 3,  7, 11])\n",
    "```\n"
   ]
  },
  {
   "cell_type": "code",
   "execution_count": 4,
   "metadata": {},
   "outputs": [],
   "source": [
    "def pivot_traj(traj):\n",
    "    \"\"\"Apply a random rotation to part of a RW.\"\"\"\n",
    "    \n",
    "    # choose the pivot\n",
    "    pivot_index = np.random.randint(0,len(traj[:,0]))\n",
    "    pivot_point = traj[pivot_index]\n",
    "\n",
    "    # split head and tail\n",
    "    traj_head = traj[:pivot_index]\n",
    "    traj_tail = traj[pivot_index:]\n",
    "    \n",
    "    # define the rotation matrices\n",
    "    symmetries = [\n",
    "        # 90 deg rotation\n",
    "        np.array([[ 0, -1], [ 1, 0]]),\n",
    "        # 180 deg rotation\n",
    "        np.array([[ -1, 0], [ 0, -1]]),\n",
    "        # 270 deg rotation\n",
    "        np.array([[ 0, 1], [ 0, 1]]),\n",
    "    ]\n",
    "    \n",
    "    # choose one rotation at random\n",
    "    symmetry = symmetries[np.random.randint(0,3)]\n",
    "\n",
    "    # apply the transformation to the tail\n",
    "    new_tail = pivot_point+((traj_tail-pivot_point) @ symmetry)\n",
    "    \n",
    "    # join the old head with the new tail\n",
    "    new_traj = np.concatenate((traj_head,new_tail),axis=0)\n",
    "    \n",
    "    return new_traj"
   ]
  },
  {
   "cell_type": "markdown",
   "metadata": {},
   "source": [
    "### Exercise\n",
    "Write a function that counts the number of self-intersections of a RW. Notice that SAWs have 0 self intersections, so that will solve step 3 of the pivot algorithm, but will also be useful to generate the initial condition. One way of approaching this exercise is to count how many *different* points the path visits."
   ]
  },
  {
   "cell_type": "code",
   "execution_count": 5,
   "metadata": {},
   "outputs": [],
   "source": [
    "def count_self_intersections(traj):\n",
    "    \"\"\"Count the number of self-intersections of a RW\"\"\"\n",
    "    num_self_intersections = 0\n",
    "    for index,i in enumerate(traj):\n",
    "        for j in traj[(index+1):]:\n",
    "            check = i == j\n",
    "            if (np.all(check)):\n",
    "                num_self_intersections+=1\n",
    "        \n",
    "    return num_self_intersections"
   ]
  },
  {
   "cell_type": "markdown",
   "metadata": {},
   "source": [
    "### Exercise\n",
    "Verify that your `count_self_intersecitons` function works properly by using short trajectories for which you know the answer."
   ]
  },
  {
   "cell_type": "code",
   "execution_count": 6,
   "metadata": {},
   "outputs": [
    {
     "name": "stdout",
     "output_type": "stream",
     "text": [
      "[[1 0]\n",
      " [2 0]\n",
      " [3 0]\n",
      " [4 0]\n",
      " [4 1]\n",
      " [3 1]\n",
      " [4 1]\n",
      " [3 1]]\n"
     ]
    },
    {
     "data": {
      "image/png": "[encoded data removed]",
      "text/plain": [
       "<Figure size 432x288 with 1 Axes>"
      ]
     },
     "metadata": {},
     "output_type": "display_data"
    },
    {
     "name": "stdout",
     "output_type": "stream",
     "text": [
      "2\n"
     ]
    }
   ],
   "source": [
    "a=get_traj(8)\n",
    "print(a)\n",
    "plt.plot(\n",
    "        a[:,0], a[:,1],\n",
    "        color=\"red\",\n",
    "        lw=2,\n",
    "        label=\"2_D Random walk\"\n",
    "        )\n",
    "plt.show()\n",
    "print(count_self_intersections(a))"
   ]
  },
  {
   "cell_type": "markdown",
   "metadata": {},
   "source": [
    "## Generating the initial condition\n",
    "You might have noticed that the pivot algorithm requires an element of SAW($n$) as starting condition, to then generate a Markov chain easily. But how do you get this first element? We will use the following strategy:\n",
    "1. Generate a standard 2D random walk, and count the number of self intersections.\n",
    "2. Apply the pivot transformation to get a new 2D random walk, and count the number of self-intersections-\n",
    "3. If the number of self-intersections has decreased or not changed, keep the new path. Else, keep the old one.\n",
    "4. Go to 2, till the number of self-intersections is 0.\n",
    "\n",
    "### Exercise\n",
    "Write a function `get_first_SAW` that generates a SAW of given length"
   ]
  },
  {
   "cell_type": "code",
   "execution_count": 7,
   "metadata": {},
   "outputs": [],
   "source": [
    "def get_first_SAW(length, max_tries=1000000):\n",
    "    rw = get_traj(length)\n",
    "    si_ini = count_self_intersections(rw)\n",
    "    if(si_ini==0): return rw\n",
    "    for i in range(max_tries):\n",
    "        test_saw = pivot_traj(rw)\n",
    "        si_fin = count_self_intersections(test_saw)\n",
    "        if (si_fin==0): \n",
    "            #print(\"SAW generated in \" + str(i) + \" itereations\")\n",
    "            return test_saw\n",
    "        if (si_fin<=si_ini): \n",
    "            rw = test_saw\n",
    "            si_ini = count_self_intersections(rw)\n",
    "            \n",
    "    print(\"Couldn't generate a SAW of length \" + str(length))\n",
    "    "
   ]
  },
  {
   "cell_type": "markdown",
   "metadata": {},
   "source": [
    "### Exercise\n",
    "Generate and plot some 2D SAWs of different lengths. Be carefull, raise the length slowly! You can measure how long a cell takes executing using the `%%time` magic at the top of a cell."
   ]
  },
  {
   "cell_type": "code",
   "execution_count": 8,
   "metadata": {},
   "outputs": [
    {
     "data": {
      "image/png": "[encoded data removed]",
      "text/plain": [
       "<Figure size 432x288 with 1 Axes>"
      ]
     },
     "metadata": {},
     "output_type": "display_data"
    },
    {
     "name": "stdout",
     "output_type": "stream",
     "text": [
      "CPU times: user 33.6 s, sys: 62.5 ms, total: 33.7 s\n",
      "Wall time: 33.9 s\n"
     ]
    }
   ],
   "source": [
    "%%time\n",
    "a = get_first_SAW(100)\n",
    "plt.plot(\n",
    "        a[:,0], a[:,1],\n",
    "        color=\"red\",\n",
    "        lw=2,\n",
    "        label=\"2_D Random walk\"\n",
    "        )\n",
    "plt.show()"
   ]
  },
  {
   "cell_type": "code",
   "execution_count": 9,
   "metadata": {},
   "outputs": [
    {
     "name": "stderr",
     "output_type": "stream",
     "text": [
      "/home/ferra/miniconda3/envs/idp/lib/python3.6/site-packages/matplotlib/figure.py:2359: UserWarning: This figure includes Axes that are not compatible with tight_layout, so results might be incorrect.\n",
      "  warnings.warn(\"This figure includes Axes that are not compatible \"\n"
     ]
    },
    {
     "data": {
      "image/png": "[encoded data removed]",
      "text/plain": [
       "<Figure size 1152x720 with 9 Axes>"
      ]
     },
     "metadata": {},
     "output_type": "display_data"
    }
   ],
   "source": [
    "lengths = [20, 30, 40, 50, 60, 70, 80, 90, 100] \n",
    "fig, axx = plt.subplots(3, 3, figsize=(16, 10), tight_layout=True)\n",
    "axx = axx.reshape(-1)\n",
    "i = 0\n",
    "for length in lengths:    \n",
    "    ax = axx[i]\n",
    "    i = i+1\n",
    "    a = get_first_SAW(length)\n",
    "    ax.set_title(f\"$length: {length}$\")\n",
    "    ax.plot(\n",
    "        a[:,0], a[:,1],\n",
    "        color=\"red\",\n",
    "        lw=2,\n",
    "    )\n",
    "    ax.set_xlabel(r\"$x$\")\n",
    "    ax.set_ylabel(r\"$y$\")"
   ]
  },
  {
   "cell_type": "markdown",
   "metadata": {},
   "source": [
    "### Exercise\n",
    "Write a function `get_next_SAW` that, given a SAW, generates another SAW using the pivot algorithm. Your function should check that the input RW is really a SAW. Remember the steps:\n",
    "\n",
    "1. Apply the pivot transformation\n",
    "2. Check if the new path is self-avoiding. **If so, return it. Otherwise, return the original path.**"
   ]
  },
  {
   "cell_type": "code",
   "execution_count": 10,
   "metadata": {},
   "outputs": [],
   "source": [
    "def get_next_SAW(traj):\n",
    "    # make sure input traj is SAW\n",
    "    assert count_self_intersections(traj) == 0\n",
    "    \n",
    "    # pivot step\n",
    "    proposed_traj = pivot_traj(traj)\n",
    "    \n",
    "    # count intersections\n",
    "    num_intersections = count_self_intersections(proposed_traj)\n",
    "    \n",
    "    # if it's a SAW\n",
    "    if num_intersections==0:\n",
    "        return proposed_traj\n",
    "    \n",
    "    # if not\n",
    "    else:\n",
    "        return traj"
   ]
  },
  {
   "cell_type": "markdown",
   "metadata": {},
   "source": [
    "### Mean Squared Displacement in SAW\n",
    "A quantity of interest in RWs is the mean squared displacement, which is simply the (squared) distance between the endpoints of the walk. Usually, one writes\n",
    "\n",
    "$$\n",
    "\\left\\langle X(n)^2 \\right\\rangle \\sim n^{2 \\nu}\n",
    "$$\n",
    "\n",
    "As you know, for a standard RW of $n$ steps, the mean-squared displacement scales like $n$, so $\\nu=1/2$. However, the exponent for SAW is **different**! Althought it has not been formally proven (still), it is believed that the exponent for SAW is $\\nu=3/4$. That is, for a self-avoiding random walk, the mean squared displacement scales as $n^{3/2}$."
   ]
  },
  {
   "cell_type": "markdown",
   "metadata": {},
   "source": [
    "### Exercise\n",
    "Explain why it makes sense that the mean-squared displacement exponent of SAW is **greater** than that of standard RW. "
   ]
  },
  {
   "cell_type": "markdown",
   "metadata": {},
   "source": [
    "*(Answer) The  $\\left\\langle X(n)^2 \\right\\rangle $ of a SAW should be greater than that of a standard RW because while a RW with dimensionality <=2 tend to return indefitely at the origin(which is one of the walk endpoints), the SAW by its definition does not, therefore is reasonable to assume that its extrema gets away from the origin faster than a regular RW's one*"
   ]
  },
  {
   "cell_type": "markdown",
   "metadata": {},
   "source": [
    "### Exercise\n",
    "Verify numerically the scaling of the mean-squared displacement of SAW. Notice that you don't need to store all the SAWs, just the endpoints. You could follow this scheme:\n",
    "\n",
    "1. Generate a first SAW with your `get_first_SAW()` function\n",
    "2. Generate the next SAW using your `get_next_SAW()` function, and store the endpoint.\n",
    "3. Iterate step 2 for as many steps as required\n",
    "4. Compute the average mean-squared displacement of the stored endpoints\n",
    "\n",
    "Then repeating steps 1-4 for different lengths, and plot the results in double-logarithmic axis. Compare your results with the theoretical exponent. Do they agree?"
   ]
  },
  {
   "cell_type": "code",
   "execution_count": 11,
   "metadata": {},
   "outputs": [],
   "source": [
    "def Check_MSD(length,n_ite):\n",
    "    endpoints = []\n",
    "    saw = get_first_SAW(length)\n",
    "    #print(saw[-1][0])\n",
    "    endpoints.append(saw[-1])\n",
    "    r_2 = 0\n",
    "    for i in range(n_ite):\n",
    "        saw = get_next_SAW(saw)\n",
    "        endpoints.append(saw[-1])\n",
    "        r_2 = r_2 + (endpoints[i][0]**2 + endpoints[i][1]**2)\n",
    "        #print(endpoints[i])\n",
    "        #print((endpoints[i][0]**2 + endpoints[i][1]**2))\n",
    "        #print(\"-->\"+str(r_2))\n",
    "    r_2 = r_2/n_ite\n",
    "    return r_2"
   ]
  },
  {
   "cell_type": "code",
   "execution_count": 12,
   "metadata": {},
   "outputs": [
    {
     "name": "stdout",
     "output_type": "stream",
     "text": [
      "62.27\n",
      "89.44271909999159\n"
     ]
    }
   ],
   "source": [
    "print(Check_MSD(20,1000))\n",
    "print(20**(3/2))"
   ]
  },
  {
   "cell_type": "code",
   "execution_count": 13,
   "metadata": {},
   "outputs": [],
   "source": [
    "lengths = [10, 20, 30, 40, 50, 60, 70, 80, 90, 100, 125, 150, 200]\n",
    "theory = np.power(lengths,(3/2))\n",
    "results = []\n",
    "n_ite = 500\n",
    "#print(theory)"
   ]
  },
  {
   "cell_type": "code",
   "execution_count": 14,
   "metadata": {},
   "outputs": [],
   "source": [
    "for length in lengths:\n",
    "    results.append(Check_MSD(length,n_ite))   "
   ]
  },
  {
   "cell_type": "code",
   "execution_count": 23,
   "metadata": {},
   "outputs": [
    {
     "data": {
      "image/png": "[encoded data removed]",
      "text/plain": [
       "<Figure size 432x288 with 1 Axes>"
      ]
     },
     "metadata": {},
     "output_type": "display_data"
    }
   ],
   "source": [
    "parameter = 0.6\n",
    "plt.loglog(\n",
    "        lengths, results,\n",
    "        color=\"red\",\n",
    "        lw=2,\n",
    "        label=\"sim\"\n",
    "        )\n",
    "plt.loglog(\n",
    "        lengths, np.multiply(theory,parameter),\n",
    "        color=\"green\",\n",
    "        lw=2,\n",
    "        label=\"theory\"\n",
    "        )\n",
    "plt.legend()\n",
    "plt.show()"
   ]
  }
 ],
 "metadata": {
  "kernelspec": {
   "display_name": "Python 3",
   "language": "python",
   "name": "python3"
  },
  "language_info": {
   "codemirror_mode": {
    "name": "ipython",
    "version": 3
   },
   "file_extension": ".py",
   "mimetype": "text/x-python",
   "name": "python",
   "nbconvert_exporter": "python",
   "pygments_lexer": "ipython3",
   "version": "3.6.8"
  }
 },
 "nbformat": 4,
 "nbformat_minor": 2
}
