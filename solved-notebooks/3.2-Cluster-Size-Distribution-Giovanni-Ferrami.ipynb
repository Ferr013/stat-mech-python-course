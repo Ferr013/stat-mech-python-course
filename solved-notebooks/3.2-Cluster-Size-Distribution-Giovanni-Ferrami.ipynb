{
 "cells": [
  {
   "cell_type": "code",
   "execution_count": 56,
   "metadata": {},
   "outputs": [],
   "source": [
    "import matplotlib.pyplot as plt\n",
    "from IPython import display\n",
    "%matplotlib inline\n",
    "# another plotting library\n",
    "# https://seaborn.pydata.org/\n",
    "import seaborn as sns\n",
    "\n",
    "import matplotlib as mpl\n",
    "\n",
    "# nicer figures\n",
    "import matplotlib as mpl\n",
    "mpl.rcParams['axes.titlesize'] = 16\n",
    "mpl.rcParams['axes.labelsize'] = 14\n",
    "mpl.rcParams['legend.fontsize'] = 12\n",
    "mpl.rcParams['xtick.labelsize'] = 12\n",
    "mpl.rcParams['ytick.labelsize'] = 12\n",
    "mpl.rcParams['axes.spines.right'] = False\n",
    "mpl.rcParams['axes.spines.top'] = False\n",
    "\n",
    "import sys\n",
    "sys.path.append(\"SethnasBookCode/\")\n",
    "from Ising import IsingModel\n",
    "\n",
    "import numpy as np"
   ]
  },
  {
   "cell_type": "markdown",
   "metadata": {},
   "source": [
    "# Finding clusters\n",
    "During the last lecture, each of you designed an algorithm to find and measure clusters \n",
    "in a given configuration. Now it is time to implement it in python!"
   ]
  },
  {
   "cell_type": "markdown",
   "metadata": {},
   "source": [
    "**Exercise** Write a function that, given a configuration array `config`, returns another array `labels` where each cluster has a different label.\n",
    "\n",
    "Remember:\n",
    "+ Clusters can trespass (periodic) boundary conditions\n",
    "+ Both `+1`'s and `-1`'s can form clusters"
   ]
  },
  {
   "cell_type": "code",
   "execution_count": 57,
   "metadata": {},
   "outputs": [],
   "source": [
    "def get_labels(config):\n",
    "    \"\"\"\n",
    "    Get unique cluster labels.\n",
    "    \n",
    "    Parameters\n",
    "    ----------\n",
    "    config : np.array, (N, N)\n",
    "        Configuration of the system in {-1, 1} notation\n",
    "    Returns\n",
    "    -------\n",
    "    labels : np.array, (N, N)\n",
    "        Labels that identify the clusters\n",
    "    \"\"\"\n",
    "    n=0\n",
    "    N = len(config[0,:])\n",
    "    matrix=np.zeros(shape=(N,N))\n",
    "    dictionary = {}\n",
    "    loop = False\n",
    "    for r in range(N):\n",
    "        for s in range(N):\n",
    "            if(s!=0):\n",
    "                #print(\"@(\"+str(r)+\",\"+str(s)+\"): \" + str(config[r][s-1])+\" vs \"+str(config[r][s]))\n",
    "                if(config[r][s-1] != config[r][s]):\n",
    "                    n+=1\n",
    "            matrix[r][s] = n\n",
    "            if(r!=0 and config[r][s] == config[r-1][s]):\n",
    "                #if(s==0 or (matrix[r][s-1] != matrix[r][s] and matrix[r][s-1] != matrix[r-1][s-1])):\n",
    "                    #print(matrix)\n",
    "                    #print(dictionary)\n",
    "                    if (matrix[r][s]) in dictionary:\n",
    "                        if(matrix[r-1][s-1]!=dictionary[matrix[r][s]]):\n",
    "                            #print(\"@(\"+str(r)+\",\"+str(s)+\"): \")\n",
    "                            cur_i = matrix[r-1][s]\n",
    "                            loop = True\n",
    "                            while(loop):\n",
    "                                #print(\"cur_i = \" + str(cur_i))\n",
    "                                if cur_i in dictionary:\n",
    "                                    cur_i = dictionary[cur_i]\n",
    "                                else:\n",
    "                                    dictionary[cur_i] = dictionary[matrix[r][s]]\n",
    "                                    loop=False\n",
    "                    else:\n",
    "                        dictionary[matrix[r][s]] = matrix[r-1][s]\n",
    "        n+=1\n",
    "    #simplify dictionary\n",
    "    #print(matrix)\n",
    "    #print(dictionary)\n",
    "    for key in dictionary:\n",
    "        if dictionary[key] in dictionary:\n",
    "            new_key = dictionary[key]\n",
    "            dictionary[key] = dictionary[new_key]\n",
    "    #print(dictionary)            \n",
    "    #return labels\n",
    "    for r in range(N):\n",
    "        for s in range(N):\n",
    "            if matrix[r][s] in dictionary:\n",
    "                matrix[r][s] = dictionary[matrix[r][s]]\n",
    "    for r in range(N):\n",
    "        for s in range(N):\n",
    "            if matrix[r][s] in dictionary:\n",
    "                matrix[r][s] = dictionary[matrix[r][s]]\n",
    "    return matrix"
   ]
  },
  {
   "cell_type": "markdown",
   "metadata": {},
   "source": [
    "### Test your function\n",
    "To help you **test** your function, I have prepared some test data, so that we can all try our algorithms using the same input."
   ]
  },
  {
   "cell_type": "code",
   "execution_count": 58,
   "metadata": {},
   "outputs": [],
   "source": [
    "config_test_0 = np.array([[ 1, -1,  1],\n",
    "                          [ 1, -1,  1],\n",
    "                          [ 1,  1,  1]])"
   ]
  },
  {
   "cell_type": "code",
   "execution_count": 59,
   "metadata": {},
   "outputs": [],
   "source": [
    "config_test_1 = np.array([[ 1, -1, -1,  1, -1,  1],\n",
    "                          [-1, -1, -1,  1, -1,  1],\n",
    "                          [-1,  1, -1, -1, -1,  1],\n",
    "                          [-1,  1, -1,  1,  1,  1],\n",
    "                          [-1,  1, -1, -1,  1, -1],\n",
    "                          [-1, -1, -1,  1,  1,  1]])"
   ]
  },
  {
   "cell_type": "code",
   "execution_count": 60,
   "metadata": {},
   "outputs": [],
   "source": [
    "config_test_2 = np.array([[ 1, -1,  1,  1, -1,  1, -1,  1,  1,  1],\n",
    "                          [-1, -1, -1,  1,  1, -1, -1, -1,  1, -1],\n",
    "                          [ 1, -1,  1, -1, -1, -1,  1,  1, -1,  1],\n",
    "                          [ 1, -1,  1,  1,  1, -1,  1, -1,  1, -1],\n",
    "                          [-1, -1,  1,  1, -1,  1, -1,  1,  1,  1],\n",
    "                          [ 1, -1, -1, -1,  1, -1,  1,  1, -1,  1],\n",
    "                          [-1,  1, -1,  1,  1, -1, -1, -1,  1,  1],\n",
    "                          [-1, -1, -1, -1,  1,  1, -1, -1, -1,  1],\n",
    "                          [ 1,  1, -1, -1,  1, -1,  1,  1,  1,  1],\n",
    "                          [ 1,  1, -1, -1, -1,  1,  1,  1,  1, -1]])\n"
   ]
  },
  {
   "cell_type": "code",
   "execution_count": 61,
   "metadata": {},
   "outputs": [
    {
     "name": "stdout",
     "output_type": "stream",
     "text": [
      "[[0. 1. 0.]\n",
      " [0. 1. 0.]\n",
      " [0. 0. 0.]]\n"
     ]
    }
   ],
   "source": [
    "print(get_labels(config_test_0))"
   ]
  },
  {
   "cell_type": "markdown",
   "metadata": {},
   "source": [
    "Execute the following cell to make sure your function works correctly. The left column will show the test configurations, and the right column will show the clusters your function found, with different clusters colored in different colors"
   ]
  },
  {
   "cell_type": "markdown",
   "metadata": {},
   "source": [
    "**COLORMAP** Possible values are: Accent, Accent_r, Blues, Blues_r, BrBG, BrBG_r, BuGn, BuGn_r, BuPu, BuPu_r, CMRmap, CMRmap_r, Dark2, Dark2_r, GnBu, GnBu_r, Greens, Greens_r, Greys, Greys_r, OrRd, OrRd_r, Oranges, Oranges_r, PRGn, PRGn_r, Paired, Paired_r, Pastel1, Pastel1_r, Pastel2, Pastel2_r, PiYG, PiYG_r, PuBu, PuBuGn, PuBuGn_r, PuBu_r, PuOr, PuOr_r, PuRd, PuRd_r, Purples, Purples_r, RdBu, RdBu_r, RdGy, RdGy_r, RdPu, RdPu_r, RdYlBu, RdYlBu_r, RdYlGn, RdYlGn_r, Reds, Reds_r, Set1, Set1_r, Set2, Set2_r, Set3, Set3_r, Spectral, Spectral_r, Wistia, Wistia_r, YlGn, YlGnBu, YlGnBu_r, YlGn_r, YlOrBr, YlOrBr_r, YlOrRd, YlOrRd_r, afmhot, afmhot_r, autumn, autumn_r, binary, binary_r, bone, bone_r, brg, brg_r, bwr, bwr_r, cividis, cividis_r, cool, cool_r, coolwarm, coolwarm_r, copper, copper_r, cubehelix, cubehelix_r, flag, flag_r, gist_earth, gist_earth_r, gist_gray, gist_gray_r, gist_heat, gist_heat_r, gist_ncar, gist_ncar_r, gist_rainbow, gist_rainbow_r, gist_stern, gist_stern_r, gist_yarg, gist_yarg_r, gnuplot, gnuplot2, gnuplot2_r, gnuplot_r, gray, gray_r, hot, hot_r, hsv, hsv_r, icefire, icefire_r, inferno, inferno_r, jet, jet_r, magma, magma_r, mako, mako_r, nipy_spectral, nipy_spectral_r, ocean, ocean_r, pink, pink_r, plasma, plasma_r, prism, prism_r, rainbow, rainbow_r, rocket, rocket_r, seismic, seismic_r, spring, spring_r, summer, summer_r, tab10, tab10_r, tab20, tab20_r, tab20b, tab20b_r, tab20c, tab20c_r, terrain, terrain_r, twilight, twilight_r, twilight_shifted, twilight_shifted_r, viridis, viridis_r, vlag, vlag_r, winter, winter_r"
   ]
  },
  {
   "cell_type": "code",
   "execution_count": 62,
   "metadata": {},
   "outputs": [
    {
     "data": {
      "image/png": "[encoded data removed]",
      "text/plain": [
       "<Figure size 720x288 with 2 Axes>"
      ]
     },
     "metadata": {},
     "output_type": "display_data"
    },
    {
     "data": {
      "image/png": "[encoded data removed]",
      "text/plain": [
       "<Figure size 720x288 with 2 Axes>"
      ]
     },
     "metadata": {},
     "output_type": "display_data"
    },
    {
     "data": {
      "image/png": "[encoded data removed]",
      "text/plain": [
       "<Figure size 720x288 with 2 Axes>"
      ]
     },
     "metadata": {},
     "output_type": "display_data"
    }
   ],
   "source": [
    "for i, config in enumerate([config_test_0, config_test_1, config_test_2]):\n",
    "    labels = get_labels(config)\n",
    "\n",
    "    fig, (ax1, ax2) = plt.subplots(1, 2, figsize=(10,4))\n",
    "    ax1.set_xticks(range(len(config)))\n",
    "    ax1.set_yticks(range(len(config)))\n",
    "    ax2.set_xticks(range(len(config)))\n",
    "    ax2.set_yticks(range(len(config)))\n",
    "    ax1.set_title(\"Configuration\")\n",
    "    ax2.set_title(\"Clusters\")\n",
    "    ax1.imshow(config, cmap=\"Greys\")\n",
    "    ax2.imshow(labels, cmap=\"gnuplot\")\n",
    "    \n",
    "    fig.suptitle(f\"Test data {i}\", fontsize=22)"
   ]
  },
  {
   "cell_type": "markdown",
   "metadata": {},
   "source": [
    "If your function doesn't work, you might want to use this cell to inspect your results"
   ]
  },
  {
   "cell_type": "code",
   "execution_count": 63,
   "metadata": {},
   "outputs": [
    {
     "data": {
      "text/plain": [
       "<matplotlib.axes._subplots.AxesSubplot at 0x7fb3bb08a0f0>"
      ]
     },
     "execution_count": 63,
     "metadata": {},
     "output_type": "execute_result"
    },
    {
     "data": {
      "image/png": "[encoded data removed]",
      "text/plain": [
       "<Figure size 720x648 with 2 Axes>"
      ]
     },
     "metadata": {},
     "output_type": "display_data"
    }
   ],
   "source": [
    "fig, ax = plt.subplots(1, 1, figsize=(10, 9))\n",
    "ax.set_aspect(1)\n",
    "sns.heatmap(labels, annot=True, ax=ax, cmap=\"gnuplot\")"
   ]
  },
  {
   "cell_type": "markdown",
   "metadata": {},
   "source": [
    "### Measuring cluster sizes\n",
    "Use your `get_labels()` function to find clusters in a large Ising model, say $N=500$. You can use your own Ising implementation. If you use Sethna's code, remember that he uses $s \\in \\{0, 1\\}$ spins!"
   ]
  },
  {
   "cell_type": "code",
   "execution_count": 78,
   "metadata": {},
   "outputs": [
    {
     "ename": "KeyboardInterrupt",
     "evalue": "",
     "output_type": "error",
     "traceback": [
      "\u001b[0;31m---------------------------------------------------------------------------\u001b[0m",
      "\u001b[0;31mKeyboardInterrupt\u001b[0m                         Traceback (most recent call last)",
      "\u001b[0;32m<ipython-input-78-a4142ab073d5>\u001b[0m in \u001b[0;36m<module>\u001b[0;34m()\u001b[0m\n\u001b[1;32m      1\u001b[0m \u001b[0mN\u001b[0m \u001b[0;34m=\u001b[0m \u001b[0;36m12\u001b[0m\u001b[0;34m\u001b[0m\u001b[0;34m\u001b[0m\u001b[0m\n\u001b[1;32m      2\u001b[0m \u001b[0mconfig\u001b[0m \u001b[0;34m=\u001b[0m \u001b[0mIsingModel\u001b[0m\u001b[0;34m(\u001b[0m\u001b[0mN\u001b[0m\u001b[0;34m)\u001b[0m\u001b[0;34m.\u001b[0m\u001b[0mlattice\u001b[0m\u001b[0;34m\u001b[0m\u001b[0;34m\u001b[0m\u001b[0m\n\u001b[0;32m----> 3\u001b[0;31m \u001b[0mlabels\u001b[0m \u001b[0;34m=\u001b[0m \u001b[0mget_labels\u001b[0m\u001b[0;34m(\u001b[0m\u001b[0mconfig\u001b[0m\u001b[0;34m)\u001b[0m\u001b[0;34m\u001b[0m\u001b[0;34m\u001b[0m\u001b[0m\n\u001b[0m",
      "\u001b[0;32m<ipython-input-57-b09859f3b61f>\u001b[0m in \u001b[0;36mget_labels\u001b[0;34m(config)\u001b[0m\n\u001b[1;32m     36\u001b[0m                                 \u001b[0;31m#print(\"cur_i = \" + str(cur_i))\u001b[0m\u001b[0;34m\u001b[0m\u001b[0;34m\u001b[0m\u001b[0;34m\u001b[0m\u001b[0m\n\u001b[1;32m     37\u001b[0m                                 \u001b[0;32mif\u001b[0m \u001b[0mcur_i\u001b[0m \u001b[0;32min\u001b[0m \u001b[0mdictionary\u001b[0m\u001b[0;34m:\u001b[0m\u001b[0;34m\u001b[0m\u001b[0;34m\u001b[0m\u001b[0m\n\u001b[0;32m---> 38\u001b[0;31m                                     \u001b[0mcur_i\u001b[0m \u001b[0;34m=\u001b[0m \u001b[0mdictionary\u001b[0m\u001b[0;34m[\u001b[0m\u001b[0mcur_i\u001b[0m\u001b[0;34m]\u001b[0m\u001b[0;34m\u001b[0m\u001b[0;34m\u001b[0m\u001b[0m\n\u001b[0m\u001b[1;32m     39\u001b[0m                                 \u001b[0;32melse\u001b[0m\u001b[0;34m:\u001b[0m\u001b[0;34m\u001b[0m\u001b[0;34m\u001b[0m\u001b[0m\n\u001b[1;32m     40\u001b[0m                                     \u001b[0mdictionary\u001b[0m\u001b[0;34m[\u001b[0m\u001b[0mcur_i\u001b[0m\u001b[0;34m]\u001b[0m \u001b[0;34m=\u001b[0m \u001b[0mdictionary\u001b[0m\u001b[0;34m[\u001b[0m\u001b[0mmatrix\u001b[0m\u001b[0;34m[\u001b[0m\u001b[0mr\u001b[0m\u001b[0;34m]\u001b[0m\u001b[0;34m[\u001b[0m\u001b[0ms\u001b[0m\u001b[0;34m]\u001b[0m\u001b[0;34m]\u001b[0m\u001b[0;34m\u001b[0m\u001b[0;34m\u001b[0m\u001b[0m\n",
      "\u001b[0;31mKeyboardInterrupt\u001b[0m: "
     ]
    }
   ],
   "source": [
    "N = 12\n",
    "config = IsingModel(N).lattice\n",
    "labels = get_labels(config)"
   ]
  },
  {
   "cell_type": "code",
   "execution_count": 77,
   "metadata": {},
   "outputs": [
    {
     "data": {
      "text/plain": [
       "<matplotlib.image.AxesImage at 0x7fb3b9911da0>"
      ]
     },
     "execution_count": 77,
     "metadata": {},
     "output_type": "execute_result"
    },
    {
     "data": {
      "image/png": "[encoded data removed]",
      "text/plain": [
       "<Figure size 720x288 with 2 Axes>"
      ]
     },
     "metadata": {},
     "output_type": "display_data"
    }
   ],
   "source": [
    "#plt.figure(figsize=(10, 8))\n",
    "#plt.imshow(labels)\n",
    "\n",
    "fig, (ax1, ax2) = plt.subplots(1, 2, figsize=(10,4))\n",
    "ax1.set_title(\"Configuration\")\n",
    "ax2.set_title(\"Clusters\")\n",
    "ax1.imshow(config, cmap=\"Greys\")\n",
    "ax2.imshow(labels, cmap=\"gnuplot\")"
   ]
  },
  {
   "cell_type": "markdown",
   "metadata": {},
   "source": [
    "### Exercise\n",
    "Find an efficient way to measure cluster sizes. Remind that all you care about is the distribution of cluster sizes, their location does not matter. You might want to use the `.reshape()` method of a numpy array, and the `Counter` class from the `collections` package."
   ]
  },
  {
   "cell_type": "code",
   "execution_count": null,
   "metadata": {},
   "outputs": [],
   "source": [
    "def get_sizes(labels):\n",
    "    ...\n",
    "    ...\n",
    "    ...\n",
    "    return sizes"
   ]
  },
  {
   "cell_type": "markdown",
   "metadata": {},
   "source": [
    "### Exercise\n",
    "For $T >> T_c$, spins are essentially uncorrelated. What is the distribution of cluster sizes you expect to find in this case? **Hint** Think about the 1D case assuming totally uncorrelated spins."
   ]
  },
  {
   "cell_type": "markdown",
   "metadata": {},
   "source": [
    "*Your answer here*\n",
    "\n"
   ]
  },
  {
   "cell_type": "markdown",
   "metadata": {},
   "source": [
    "### Exercice\n",
    "Do a simulation at very high temperature and measure the cluster size distribution. Plot your results in log-log scale. Do your results agree with your previous answer?"
   ]
  },
  {
   "cell_type": "markdown",
   "metadata": {},
   "source": [
    "*Your answer here*"
   ]
  },
  {
   "cell_type": "code",
   "execution_count": null,
   "metadata": {},
   "outputs": [],
   "source": [
    "...\n",
    "...\n",
    "config = ...\n",
    "labels = get_labels(config)\n",
    "sizes = get_sizes(labels)"
   ]
  },
  {
   "cell_type": "code",
   "execution_count": null,
   "metadata": {},
   "outputs": [],
   "source": [
    "# use logarithmic bins and logarithmic axes!\n",
    "bins = np.geomspace(min(sizes), max(sizes), num=20)\n",
    "\n",
    "fig, ax = plt.subplots(1, 1, figsize=(5, 4))\n",
    "ax.hist(sizes, bins=bins, histtype=\"step\")\n",
    "ax.set_xscale(\"log\")\n",
    "ax.set_yscale(\"log\")\n",
    "ax.set_xlim(min(sizes), max(sizes))"
   ]
  },
  {
   "cell_type": "markdown",
   "metadata": {},
   "source": [
    "### Exercise\n",
    "\n",
    "At $T_c$, the distribution of cluster sizes is known to be a power law with exponent close to $\\alpha \\simeq 2$.\n",
    "\n",
    "$$\n",
    "P(s) \\propto s^{-\\alpha}\n",
    "$$\n",
    "\n",
    "Do a simulation at $T=T_c$ and compare the resulting cluster size distribution with that obtained at $T>>T_c$."
   ]
  },
  {
   "cell_type": "code",
   "execution_count": null,
   "metadata": {},
   "outputs": [],
   "source": [
    "# do simulation\n",
    "...\n",
    "...\n"
   ]
  },
  {
   "cell_type": "code",
   "execution_count": null,
   "metadata": {},
   "outputs": [],
   "source": [
    "# plot results\n",
    "...\n",
    "..."
   ]
  },
  {
   "cell_type": "code",
   "execution_count": null,
   "metadata": {},
   "outputs": [],
   "source": []
  }
 ],
 "metadata": {
  "kernelspec": {
   "display_name": "Python 3",
   "language": "python",
   "name": "python3"
  },
  "language_info": {
   "codemirror_mode": {
    "name": "ipython",
    "version": 3
   },
   "file_extension": ".py",
   "mimetype": "text/x-python",
   "name": "python",
   "nbconvert_exporter": "python",
   "pygments_lexer": "ipython3",
   "version": "3.6.8"
  }
 },
 "nbformat": 4,
 "nbformat_minor": 2
}
